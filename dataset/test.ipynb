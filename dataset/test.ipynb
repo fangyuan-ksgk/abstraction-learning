{
 "cells": [
  {
   "cell_type": "markdown",
   "id": "1c7b4599",
   "metadata": {},
   "source": [
    "GAT dataset preparation\n",
    "1. Discovery of Newton's gravity"
   ]
  },
  {
   "cell_type": "code",
   "execution_count": 4,
   "id": "e32f7670",
   "metadata": {},
   "outputs": [
    {
     "name": "stdout",
     "output_type": "stream",
     "text": [
      "\n",
      "Saving GIF to 6body.gif...\n",
      "✓ GIF saved successfully!\n"
     ]
    },
    {
     "data": {
      "text/plain": [
       "'6body.gif'"
      ]
     },
     "execution_count": 4,
     "metadata": {},
     "output_type": "execute_result"
    }
   ],
   "source": [
    "from nbody import * \n",
    "\n",
    "# Create & Simulate a random n-body system\n",
    "# --------------------------------------------------\n",
    "\n",
    "# Just help generate animation of all patterns, I'd like to see them, make sure saved file has different name\n",
    "\n",
    "\n",
    "sim = create_random_orbital(n=6, seed=1)\n",
    "# sim = create_random_cartesian(n=6, seed=42)\n",
    "\n",
    "\n",
    "raw_data = simulate_and_extract_data(sim, t_max=30, n_points=301)\n",
    "\n",
    "# Visualize dynamics (Now make em dance!)\n",
    "# Six body\n",
    "ts, positions, forces = raw_data\n",
    "masses = np.array([p.m for p in sim.particles])\n",
    "create_nbody_gif(ts, positions, None, masses,\n",
    "                labels=['Alpha', 'Beta', 'Gamma', 'Delta', 'Epsilon', 'Zeta'],\n",
    "                body_colors=['#FFFF00', '#00FF00', '#0000FF', '#FF0000', '#0000FF', '#00FF00'],\n",
    "                figsize=(10, 8),\n",
    "                legend_scale=1.6,\n",
    "                trail_steps=30,  # Show last 30 timesteps as trail\n",
    "                force_scale=0.001,\n",
    "                save_path='6body.gif')"
   ]
  },
  {
   "cell_type": "code",
   "execution_count": 5,
   "id": "db344920",
   "metadata": {},
   "outputs": [
    {
     "name": "stdout",
     "output_type": "stream",
     "text": [
      "Generating orbital with n=3, n_context=3...\n"
     ]
    }
   ],
   "source": [
    "# Enhanced Minimal Format for Pretraining\n",
    "# ------------------------------------------------------------------------------------------------\n",
    "\n",
    "from nbody import *\n",
    "\n",
    "\"\"\"\n",
    "Lever: \n",
    "1. n_context: control # of in-context samples\n",
    "2. stride: control Delta t between samples\n",
    "3. T: control total time of simulation\n",
    "4. patterns: control the type of simulation (cartesian, orbital), orbital is hiearchical system with one dominating body\n",
    "6. n_bodies: control the number of bodies in the simulation\n",
    "\"\"\"\n",
    "\n",
    "dataset = create_dataset_with_params(\n",
    "    n_bodies=3,\n",
    "    patterns=['orbital'],\n",
    "    n_context=3,\n",
    "    stride=1,\n",
    "    T=1000,\n",
    "    include_masses=True,\n",
    ")\n"
   ]
  },
  {
   "cell_type": "code",
   "execution_count": 1,
   "id": "0f54ccdc",
   "metadata": {},
   "outputs": [
    {
     "name": "stdout",
     "output_type": "stream",
     "text": [
      "Generating circular with n=2, n_context=3...\n",
      "Saved 100 sequences to dataset/nbody/2body_100.bin\n"
     ]
    }
   ],
   "source": [
    "from nbody import NBodyDataset\n",
    "\n",
    "dataset = NBodyDataset(\n",
    "    n_bodies=2,\n",
    "    patterns=['circular'],\n",
    "    T=10,\n",
    "    filepath='dataset/nbody/2body_100.bin',\n",
    "    num_data=100\n",
    ").build()"
   ]
  },
  {
   "cell_type": "code",
   "execution_count": 3,
   "id": "679bc5e2",
   "metadata": {},
   "outputs": [
    {
     "name": "stderr",
     "output_type": "stream",
     "text": [
      "100%|██████████| 1000/1000 [00:00<00:00, 823542.90it/s]"
     ]
    },
    {
     "name": "stdout",
     "output_type": "stream",
     "text": [
      "Saved 1000 sequences to multiplication/1k-123.bin\n"
     ]
    },
    {
     "name": "stderr",
     "output_type": "stream",
     "text": [
      "\n"
     ]
    }
   ],
   "source": [
    "# Construct Arithmetic Dataset for SoRL\n",
    "# --------------------------------------------------------------\n",
    "from arithmetic import ArithmeticDataset\n",
    "\n",
    "\n",
    "dataset = ArithmeticDataset(num_data=1000, filepath=\"multiplication/1k-123.bin\").build()"
   ]
  },
  {
   "cell_type": "code",
   "execution_count": 4,
   "id": "02c4b443",
   "metadata": {},
   "outputs": [
    {
     "name": "stdout",
     "output_type": "stream",
     "text": [
      "4 x 763 =3052\n"
     ]
    }
   ],
   "source": [
    "seq_id = dataset.sequences[0]\n",
    "seq = dataset.tokenizer.decode(seq_id)\n",
    "print(seq)"
   ]
  },
  {
   "cell_type": "code",
   "execution_count": 2,
   "id": "da456941",
   "metadata": {},
   "outputs": [
    {
     "data": {
      "text/plain": [
       "1"
      ]
     },
     "execution_count": 2,
     "metadata": {},
     "output_type": "execute_result"
    }
   ],
   "source": [
    "# seq = dataset.sequences[0]\n",
    "# dataset.tokenizer.decode(seq)\n",
    "\n",
    "# Answer token to indicate 'start of answer'\n",
    "dataset.answer_token\n",
    "\n",
    "\n",
    "\n",
    "# ok, now how do we 'evaluate' & differentiate between 'query' & 'answer'? \n",
    "# - this dataset is not exactly \"just\" pre-train dataset -- there are "
   ]
  },
  {
   "cell_type": "code",
   "execution_count": 8,
   "id": "873a3727",
   "metadata": {},
   "outputs": [],
   "source": [
    "# dataset\n",
    "\n",
    "# v1. provide a 'answer mask' along with sequences & lenghts -- requires 1.5x memory\n",
    "# v2. different format for data\n",
    "# a x b = <a>665 --> pass on 'answer token id <a>' suffice, answer mask can be easily computed\n"
   ]
  },
  {
   "cell_type": "code",
   "execution_count": null,
   "id": "85333bc6",
   "metadata": {},
   "outputs": [],
   "source": []
  }
 ],
 "metadata": {
  "kernelspec": {
   "display_name": "base",
   "language": "python",
   "name": "python3"
  },
  "language_info": {
   "codemirror_mode": {
    "name": "ipython",
    "version": 3
   },
   "file_extension": ".py",
   "mimetype": "text/x-python",
   "name": "python",
   "nbconvert_exporter": "python",
   "pygments_lexer": "ipython3",
   "version": "3.12.7"
  }
 },
 "nbformat": 4,
 "nbformat_minor": 5
}
