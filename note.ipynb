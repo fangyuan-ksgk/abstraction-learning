{
 "cells": [
  {
   "cell_type": "markdown",
   "metadata": {},
   "source": [
    "#### Dynamic Causal Propagation"
   ]
  },
  {
   "cell_type": "code",
   "execution_count": 1,
   "metadata": {},
   "outputs": [
    {
     "name": "stdout",
     "output_type": "stream",
     "text": [
      "Epoch 1/20, Loss: 4.158883571624756\n",
      "Epoch 2/20, Loss: 3.9783146381378174\n",
      "Epoch 3/20, Loss: 3.731306791305542\n",
      "Epoch 4/20, Loss: 3.5046794414520264\n",
      "Epoch 5/20, Loss: 3.2924158573150635\n",
      "Epoch 6/20, Loss: 3.079880475997925\n",
      "Epoch 7/20, Loss: 2.8665931224823\n",
      "Epoch 8/20, Loss: 2.656156063079834\n",
      "Epoch 9/20, Loss: 2.4512057304382324\n",
      "Epoch 10/20, Loss: 2.2491233348846436\n",
      "Epoch 11/20, Loss: 2.052178382873535\n",
      "Epoch 12/20, Loss: 1.8624504804611206\n",
      "Epoch 13/20, Loss: 1.6795622110366821\n",
      "Epoch 14/20, Loss: 1.5043525695800781\n",
      "Epoch 15/20, Loss: 1.3342372179031372\n",
      "Epoch 16/20, Loss: 1.1713873147964478\n",
      "Epoch 17/20, Loss: 1.0061345100402832\n",
      "Epoch 18/20, Loss: 0.858919084072113\n",
      "Epoch 19/20, Loss: 0.7540488243103027\n",
      "Epoch 20/20, Loss: 0.6810130476951599\n"
     ]
    }
   ],
   "source": [
    "# The issue with this counting sequence is that it has batch size of 1 only \n",
    "# it's fine for now, but clearly a fourier series decomposition is more beautiful\n",
    "\n",
    "# (I). Counting Sequence\n",
    "# --------------------------------------------------------------------------------\n",
    "from collections import defaultdict\n",
    "import torch\n",
    "\n",
    "# (I.1) Generate Counting Sequence\n",
    "# ----------------------------------------------------\n",
    "def generate_level(l: int, seq: list, t: int, L: int, K: int): \n",
    "    if l < L:\n",
    "        seq[l] += str(l)\n",
    "        if t % K == 0: \n",
    "            return generate_level(l+1, seq, t // K, L, K)\n",
    "    return seq\n",
    "\n",
    "def generate_count_seq(L: int, K: int, T: int): \n",
    "    seq = defaultdict(str)\n",
    "    for t in range(1, T+1): \n",
    "        seq = generate_level(0, seq, t, L, K)\n",
    "    return seq\n",
    "# ----------------------------------------------------\n",
    "\n",
    "# (I.2) Tokenizer (basic integer tokenizer)\n",
    "# ----------------------------------------------------\n",
    "\n",
    "class TinyTokenizer: \n",
    "    def __init__(self, vocab: dict):\n",
    "        self.vocab = {str(k): v for k, v in vocab.items()}\n",
    "        self.vocab_size = len(vocab)\n",
    "\n",
    "    def __call__(self, seq: str):\n",
    "        return [self.vocab[c] for c in seq]\n",
    "\n",
    "# ----------------------------------------------------\n",
    "\n",
    "\n",
    "# (I.3) Tensor idx sequence preparation \n",
    "# ----------------------------------------------------\n",
    "\n",
    "L = 3\n",
    "K = 3\n",
    "T = 1024\n",
    "\n",
    "data = generate_count_seq(L, K, T)\n",
    "tokenizer = TinyTokenizer({str(k): k for k in range(10)})\n",
    "\n",
    "idx = [tokenizer(seq) for seq in data.values()]\n",
    "samples = [(idx, None)]\n",
    "\n",
    "from model import GATConfig, GAT, BatchedHierSeq\n",
    "from torch.optim import Adam \n",
    "\n",
    "config = GATConfig(K=K, L=L, n_embd=128, n_head=4, device=\"cpu\", _compile=False)\n",
    "gat = GAT(config)\n",
    "\n",
    "batch_data = BatchedHierSeq.from_hierarchical_data(samples, K=gat.K, L=gat.L)\n",
    "\n",
    "# Batched Forward Propagation\n",
    "epochs = 20 \n",
    "gat.train()\n",
    "\n",
    "\n",
    "# Training Loop : learning just fine -- loss reduces quickly\n",
    "# ----------------------------------------------------\n",
    "optimizer = Adam(gat.parameters(), lr=1e-3)\n",
    "\n",
    "for epoch in range(epochs):\n",
    "    loss = gat(batch_data)\n",
    "    loss.backward()\n",
    "    optimizer.step()\n",
    "    optimizer.zero_grad()\n",
    "\n",
    "    print(f\"Epoch {epoch+1}/{epochs}, Loss: {loss.item()}\")\n",
    "# ----------------------------------------------------"
   ]
  },
  {
   "cell_type": "code",
   "execution_count": 4,
   "metadata": {},
   "outputs": [
    {
     "name": "stdout",
     "output_type": "stream",
     "text": [
      "Generated token idx 0 at level 0\n",
      "Generated token idx 0 at level 0\n",
      "Generated token idx 1 at level 1\n",
      "Generated token idx 0 at level 0\n",
      "Generated token idx 0 at level 0\n",
      "Generated token idx 0 at level 0\n",
      "Generated token idx 1 at level 1\n",
      "Generated token idx 0 at level 0\n",
      "Generated token idx 0 at level 0\n",
      "Generated token idx 0 at level 0\n",
      "Generated token idx 1 at level 1\n",
      "Generated token idx 2 at level 2\n",
      "Generated token idx 0 at level 0\n",
      "Generated token idx 0 at level 0\n",
      "Generated token idx 0 at level 0\n"
     ]
    }
   ],
   "source": [
    "# Batched Generation: \n",
    "test_data = generate_count_seq(L, K, 10)\n",
    "idx = [tokenizer(seq) for seq in test_data.values()]\n",
    "test_samples = [(idx, None)]\n",
    "test_batch_data = BatchedHierSeq.from_hierarchical_data(test_samples, K=gat.K, L=gat.L)\n",
    "\n",
    "\n",
    "# Bug: new-token level is not correct -- it's always 1 here\n",
    "n_new_toks = 15\n",
    "for _ in range(n_new_toks): \n",
    "    test_batch_data = gat.generate(test_batch_data)\n",
    "    print(f\"Generated token idx {test_batch_data.tokens[-1].item()} at level {test_batch_data.levels[-1].item()}\")\n"
   ]
  },
  {
   "cell_type": "code",
   "execution_count": 6,
   "metadata": {},
   "outputs": [
    {
     "data": {
      "text/plain": [
       "BatchedHierSeq(tokens=tensor([0, 0, 0, 1, 0, 0, 0, 1, 0, 0, 0, 1, 2, 0, 0, 0, 1, 0, 0, 0, 1, 0, 0, 0,\n",
       "        1, 2, 0, 0, 0]), levels=tensor([0, 0, 0, 1, 0, 0, 0, 1, 0, 0, 0, 1, 2, 0, 0, 0, 1, 0, 0, 0, 1, 0, 0, 0,\n",
       "        1, 2, 0, 0, 0]), timestamps=tensor([ 1,  2,  3,  3,  4,  5,  6,  6,  7,  8,  9,  9,  9, 10, 11, 12, 12, 13,\n",
       "        14, 15, 15, 16, 17, 18, 18, 18, 19, 20, 21]), sample_idx=tensor([0, 0, 0, 0, 0, 0, 0, 0, 0, 0, 0, 0, 0, 0, 0, 0, 0, 0, 0, 0, 0, 0, 0, 0,\n",
       "        0, 0, 0, 0, 0]), batch_size=1, K=3, L=3)"
      ]
     },
     "execution_count": 6,
     "metadata": {},
     "output_type": "execute_result"
    }
   ],
   "source": [
    "test_batch_data"
   ]
  },
  {
   "cell_type": "code",
   "execution_count": 1,
   "metadata": {},
   "outputs": [
    {
     "data": {
      "text/plain": [
       "BatchedHierSeq(tokens=tensor([10, 11, 12, 20, 21, 30,  0, 40, 41, 42, 50, 43, 51, 31,  0]), levels=tensor([0, 0, 0, 1, 1, 2, 0, 0, 0, 0, 1, 0, 1, 2, 0]), timestamps=tensor([ 1,  2,  3,  3,  6,  9, 10,  1,  2,  3,  3,  4,  6,  9, 10]), sample_idx=tensor([0, 0, 0, 0, 0, 0, 0, 1, 1, 1, 1, 1, 1, 1, 1]), batch_size=2, K=3, L=3)"
      ]
     },
     "execution_count": 1,
     "metadata": {},
     "output_type": "execute_result"
    }
   ],
   "source": [
    "from model import GATConfig, GAT, BatchedHierSeq\n",
    "\n",
    "\n",
    "K, L = 3, 3\n",
    "config = GATConfig(K=K, L=L, n_embd=128, n_head=4, device=\"cpu\", _compile=False)\n",
    "gat = GAT(config)\n",
    "\n",
    "samples = [\n",
    "    (\n",
    "        [[10, 11, 12], [20, 21], [30]],  # token_sequences for sample 1\n",
    "        None  # will generate default timestamps\n",
    "    ),\n",
    "    (\n",
    "        [[40, 41, 42, 43], [50, 51], [31]],  # token_sequences for sample 2  \n",
    "        None\n",
    "    )\n",
    "]\n",
    "\n",
    "batch_data = BatchedHierSeq.from_hierarchical_data(samples, K=gat.K, L=gat.L)\n",
    "\n",
    "# Batched forward propagation\n",
    "gat(batch_data)\n",
    "\n",
    "# Batched generation\n",
    "gat.generate(batch_data)"
   ]
  },
  {
   "cell_type": "code",
   "execution_count": 4,
   "metadata": {},
   "outputs": [],
   "source": [
    "# Comparative studies required between GAT and other hiearchical models, such as 'adaptive-chunk', 'byte-latent', 'hiearchical-reasoning', 'JEPA' to name a few. "
   ]
  },
  {
   "cell_type": "code",
   "execution_count": null,
   "metadata": {},
   "outputs": [],
   "source": []
  }
 ],
 "metadata": {
  "kernelspec": {
   "display_name": "base",
   "language": "python",
   "name": "python3"
  },
  "language_info": {
   "codemirror_mode": {
    "name": "ipython",
    "version": 3
   },
   "file_extension": ".py",
   "mimetype": "text/x-python",
   "name": "python",
   "nbconvert_exporter": "python",
   "pygments_lexer": "ipython3",
   "version": "3.12.7"
  }
 },
 "nbformat": 4,
 "nbformat_minor": 2
}
