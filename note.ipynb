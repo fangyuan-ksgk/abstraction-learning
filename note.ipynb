{
 "cells": [
  {
   "cell_type": "markdown",
   "metadata": {},
   "source": [
    "#### Experiment (I). Hiearhical Counting"
   ]
  },
  {
   "cell_type": "code",
   "execution_count": 1,
   "metadata": {},
   "outputs": [
    {
     "name": "stdout",
     "output_type": "stream",
     "text": [
      "\n",
      "=======================================================\n",
      "Hierarchical Sequence K=2 L=3 (aligned by timestamp):\n",
      "-------------------------------------------------------\n",
      "Level 2:                 [2]             [2]             [2]             [2]             [2]             [2]             [2]             [2]             [2]             [2]             [2]             [2]             [2]             [2]             [2]             [2]             [2]             [2]             [2]             [2]             [2]             [2]             [2]             [2]             [2]             [2]             [2]             [2]             [2]             [2]             [2]             [2]             [2]             [2]             [2]             [2]             [2]             [2]             [2]             [2]             [2]             [2]             [2]             [2]             [2]             [2]             [2]             [2]             [2]             [2] \n",
      "Level 1:         [1]     [1]     [1]     [1]     [1]     [1]     [1]     [1]     [1]     [1]     [1]     [1]     [1]     [1]     [1]     [1]     [1]     [1]     [1]     [1]     [1]     [1]     [1]     [1]     [1]     [1]     [1]     [1]     [1]     [1]     [1]     [1]     [1]     [1]     [1]     [1]     [1]     [1]     [1]     [1]     [1]     [1]     [1]     [1]     [1]     [1]     [1]     [1]     [1]     [1]     [1]     [1]     [1]     [1]     [1]     [1]     [1]     [1]     [1]     [1]     [1]     [1]     [1]     [1]     [1]     [1]     [1]     [1]     [1]     [1]     [1]     [1]     [1]     [1]     [1]     [1]     [1]     [1]     [1]     [1]     [1]     [1]     [1]     [1]     [1]     [1]     [1]     [1]     [1]     [1]     [1]     [1]     [1]     [1]     [1]     [1]     [1]     [1]     [1]     [1] \n",
      "Level 0:     [0] [0] [0] [0] [0] [0] [0] [0] [0] [0] [0] [0] [0] [0] [0] [0] [0] [0] [0] [0] [0] [0] [0] [0] [0] [0] [0] [0] [0] [0] [0] [0] [0] [0] [0] [0] [0] [0] [0] [0] [0] [0] [0] [0] [0] [0] [0] [0] [0] [0] [0] [0] [0] [0] [0] [0] [0] [0] [0] [0] [0] [0] [0] [0] [0] [0] [0] [0] [0] [0] [0] [0] [0] [0] [0] [0] [0] [0] [0] [0] [0] [0] [0] [0] [0] [0] [0] [0] [0] [0] [0] [0] [0] [0] [0] [0] [0] [0] [0] [0] [0] [0] [0] [0] [0] [0] [0] [0] [0] [0] [0] [0] [0] [0] [0] [0] [0] [0] [0] [0] [0] [0] [0] [0] [0] [0] [0] [0] [0] [0] [0] [0] [0] [0] [0] [0] [0] [0] [0] [0] [0] [0] [0] [0] [0] [0] [0] [0] [0] [0] [0] [0] [0] [0] [0] [0] [0] [0] [0] [0] [0] [0] [0] [0] [0] [0] [0] [0] [0] [0] [0] [0] [0] [0] [0] [0] [0] [0] [0] [0] [0] [0] [0] [0] [0] [0] [0] [0] [0] [0] [0] [0] [0] [0] [0] [0] [0] [0] [0] [0] \n",
      "=======================================================\n",
      "Total tokens: 350, Max timestamp: 200\n",
      "\n",
      "Epoch 1/20, Loss: 4.158883094787598\n",
      "Epoch 2/20, Loss: 3.981121063232422\n",
      "Epoch 3/20, Loss: 3.7319698333740234\n",
      "Epoch 4/20, Loss: 3.507733106613159\n",
      "Epoch 5/20, Loss: 3.29179310798645\n",
      "Epoch 6/20, Loss: 3.0796310901641846\n",
      "Epoch 7/20, Loss: 2.867708206176758\n",
      "Epoch 8/20, Loss: 2.6570332050323486\n",
      "Epoch 9/20, Loss: 2.4509060382843018\n",
      "Epoch 10/20, Loss: 2.248018741607666\n",
      "Epoch 11/20, Loss: 2.0484325885772705\n",
      "Epoch 12/20, Loss: 1.8516384363174438\n",
      "Epoch 13/20, Loss: 1.655970573425293\n",
      "Epoch 14/20, Loss: 1.45820152759552\n",
      "Epoch 15/20, Loss: 1.2682498693466187\n",
      "Epoch 16/20, Loss: 1.13263738155365\n",
      "Epoch 17/20, Loss: 0.9621055722236633\n",
      "Epoch 18/20, Loss: 0.9801626801490784\n",
      "Epoch 19/20, Loss: 0.7186048626899719\n",
      "Epoch 20/20, Loss: 0.6308779120445251\n"
     ]
    }
   ],
   "source": [
    "# The issue with this counting sequence is that it has batch size of 1 only \n",
    "# it's fine for now, but clearly a fourier series decomposition is more beautiful\n",
    "\n",
    "# (I). Counting Sequence\n",
    "# --------------------------------------------------------------------------------\n",
    "from collections import defaultdict\n",
    "import torch\n",
    "\n",
    "# (I.1) Generate Counting Sequence\n",
    "# ----------------------------------------------------\n",
    "def generate_level(l: int, seq: list, t: int, L: int, K: int): \n",
    "    if l < L:\n",
    "        seq[l] += str(l)\n",
    "        if t % K == 0: \n",
    "            return generate_level(l+1, seq, t // K, L, K)\n",
    "    return seq\n",
    "\n",
    "def generate_count_seq(L: int, K: int, T: int): \n",
    "    seq = defaultdict(str)\n",
    "    for t in range(1, T+1): \n",
    "        seq = generate_level(0, seq, t, L, K)\n",
    "    return seq\n",
    "# ----------------------------------------------------\n",
    "\n",
    "# (I.2) Tokenizer (basic integer tokenizer)\n",
    "# ----------------------------------------------------\n",
    "\n",
    "class TinyTokenizer: \n",
    "    def __init__(self, vocab: dict):\n",
    "        self.vocab = {str(k): v for k, v in vocab.items()}\n",
    "        self.vocab_size = len(vocab)\n",
    "\n",
    "    def __call__(self, seq: str):\n",
    "        return [self.vocab[c] for c in seq]\n",
    "\n",
    "# ----------------------------------------------------\n",
    "\n",
    "\n",
    "# (I.3) Tensor idx sequence preparation \n",
    "# ----------------------------------------------------\n",
    "\n",
    "L = 3\n",
    "K = 2\n",
    "T = 200\n",
    "\n",
    "data = generate_count_seq(L, K, T)\n",
    "tokenizer = TinyTokenizer({str(k): k for k in range(10)})\n",
    "\n",
    "idx = [tokenizer(seq) for seq in data.values()]\n",
    "idx += [[] for _ in range(L - len(idx))]\n",
    "samples = [(idx, None)]\n",
    "\n",
    "from model import GATConfig, GAT, HierSeq\n",
    "from utils import stream_print_hseq\n",
    "from torch.optim import Adam \n",
    "\n",
    "config = GATConfig(K=K, L=L, n_embd=128, n_head=4, device=\"cpu\", _compile=False)\n",
    "gat = GAT(config)\n",
    "\n",
    "# .from_hiearchical_data has error: prepared token is NOT interleaved with correct causal ordering\n",
    "batch_data = HierSeq.from_hierarchical_data(samples, K=gat.K, L=gat.L)\n",
    "stream_print_hseq(batch_data) # sanity check\n",
    "\n",
    "# Batched Forward Propagation\n",
    "epochs = 20\n",
    "# gat.train()\n",
    "\n",
    "\n",
    "# Training Loop : learning just fine -- loss reduces quickly\n",
    "# ----------------------------------------------------\n",
    "optimizer = Adam(gat.parameters(), lr=1e-3)\n",
    "\n",
    "for epoch in range(epochs):\n",
    "    loss = gat(batch_data)\n",
    "    loss.backward()\n",
    "    optimizer.step()\n",
    "    optimizer.zero_grad()\n",
    "\n",
    "    print(f\"Epoch {epoch+1}/{epochs}, Loss: {loss.item()}\")\n",
    "    # break\n",
    "# ----------------------------------------------------"
   ]
  },
  {
   "cell_type": "code",
   "execution_count": 2,
   "metadata": {},
   "outputs": [
    {
     "name": "stdout",
     "output_type": "stream",
     "text": [
      "\n",
      "=======================================================\n",
      "Hierarchical Sequence K=2 L=3 (aligned by timestamp):\n",
      "-------------------------------------------------------\n",
      "Level 2:                 [2]             [2]             [2]                 \n",
      "Level 1:         [1]     [1]     [1]     [1]     [1]     [1]     [1]         \n",
      "Level 0:     [0] [0] [0] [0] [0] [0] [0] [0] [0] [0] [0] [0] [0] [0] [0] [0] \n",
      "=======================================================\n",
      "Total tokens: 26, Max timestamp: 16\n",
      "\n"
     ]
    }
   ],
   "source": [
    "from utils import * \n",
    "\n",
    "\n",
    "test_data = generate_count_seq(L, K, 1)\n",
    "idx = [tokenizer(seq) for seq in test_data.values()]\n",
    "idx += [[] for _ in range(L - len(idx))]\n",
    "test_samples = [(idx, None)]\n",
    "test_batch_data = HierSeq.from_hierarchical_data(test_samples, K=gat.K, L=gat.L)\n",
    "\n",
    "\n",
    "for _ in range(25): \n",
    "    gat.generate(test_batch_data)\n",
    "    stream_print_hseq(test_batch_data)\n",
    "    time.sleep(0.5)"
   ]
  },
  {
   "cell_type": "markdown",
   "metadata": {},
   "source": [
    "#### Self-Organizing Reinforcement Learning\n",
    "1. A more exciting question is how can I build a GAT module for a Snake game? It'll be the natural test-bed for SoRL -- a snake with inner-monologue. \n",
    "2. Decision Abstractive Transformer (DAT).\n"
   ]
  },
  {
   "cell_type": "code",
   "execution_count": null,
   "metadata": {},
   "outputs": [
    {
     "name": "stdout",
     "output_type": "stream",
     "text": [
      "pygame 2.6.1 (SDL 2.28.4, Python 3.12.7)\n",
      "Hello from the pygame community. https://www.pygame.org/contribute.html\n",
      "Episode 0: Score=0, Reward=-11.6\n",
      "Episode 1: Score=0, Reward=-10.6\n",
      "Episode 2: Score=0, Reward=-10.6\n",
      "Episode 3: Score=0, Reward=-10.9\n",
      "Episode 4: Score=0, Reward=-11.3\n",
      "Sanity check passed: total 115 0-th level tokens (state & action)\n",
      "Sanity check passed: 60 state tokens in data, 60 state tokens in trajectories\n",
      "Sanity check passed: 55 action tokens in data, 55 action tokens in trajectories\n",
      "Sanity check passed: 145 (action/state/abstract) tokens in data\n"
     ]
    }
   ],
   "source": [
    "from snake import SnakeGameEngine, collect_trajectories, RandomAgent\n",
    "from utils import HierTraj, data_sanity_check\n",
    "from constant import PLACE_HOLDER_STATE_TOK, PLACE_HOLDER_ACTION_TOK\n",
    "\n",
    "env = SnakeGameEngine(width=10, height=10)\n",
    "\n",
    "# This is a make-shift data collection pipeline, the abstract tokens are complete false. \n",
    "# The proper way to collect data, per SoRL, is to 'simulate' multiple actions on the environment and store the HierTraj state directly\n",
    "# in that sense, the code snippet in the middle is not useful...\n",
    "\n",
    "# A way to use 'expert trajectory' is to take in the 'trajectories', and have the agent 'learn / explore' on what abstract tokens can be \n",
    "# used to explain the trajectory. This is very similar to the 'intuitive-physics' based 'learning by surprise' or 'active learning from obs' \n",
    "# idea. \n",
    "\n",
    "# For what is worth, the mid-snippet is useless (besides serving as a toy-case on which we test on SSL training of GAT)\n",
    "\n",
    "# Collect trajectories\n",
    "trajectories = collect_trajectories(env, RandomAgent(env), num_episodes=5, device=\"cpu\")\n",
    "\n",
    "samples = []\n",
    "for trajectory in trajectories: \n",
    "\n",
    "    n_state = trajectory[0].size(0)\n",
    "    placeholder_tokens = [PLACE_HOLDER_STATE_TOK if i % 2 == 0 else PLACE_HOLDER_ACTION_TOK for i in range(2*n_state-1)]\n",
    "    sample = ([placeholder_tokens, [3, 9, 4, 2], [19, 14]], None)\n",
    "    samples.append(sample)\n",
    "\n",
    "batch_data = HierTraj.from_hierarchical_data(samples, K=3, L=3)\n",
    "data_sanity_check(batch_data, trajectories)"
   ]
  },
  {
   "cell_type": "code",
   "execution_count": 1,
   "metadata": {},
   "outputs": [
    {
     "name": "stdout",
     "output_type": "stream",
     "text": [
      "pygame 2.6.1 (SDL 2.28.4, Python 3.12.7)\n",
      "Hello from the pygame community. https://www.pygame.org/contribute.html\n"
     ]
    }
   ],
   "source": [
    "from model import DAT, DATConfig\n",
    "\n",
    "# DAT model \n",
    "\n",
    "config = DATConfig(\n",
    "    n_layer=4,\n",
    "    n_head=2,\n",
    "    n_embd=32,\n",
    "    K=2,\n",
    "    L=3,\n",
    "    vocab_size_list=[64, 32],\n",
    "    device=\"cpu\",\n",
    "    _compile=True,\n",
    ")\n",
    "\n",
    "# Snake specific encoder & decoder for state & action\n",
    "from snake import StateEncoder, StateDecoder, ActionEncoder, ActionDecoder\n",
    "\n",
    "state_encoder = StateEncoder(height=10, width=10, feature_dim=config.n_embd)\n",
    "state_decoder = StateDecoder(height=10, width=10, feature_dim=config.n_embd)\n",
    "action_encoder = ActionEncoder(action_size=4, feature_dim=config.n_embd)\n",
    "action_decoder = ActionDecoder(action_size=4, feature_dim=config.n_embd)\n",
    "\n",
    "dat = DAT(config, state_encoder, state_decoder, action_encoder, action_decoder)"
   ]
  },
  {
   "cell_type": "code",
   "execution_count": 3,
   "metadata": {},
   "outputs": [],
   "source": [
    "# compute loss\n",
    "loss = dat(batch_data, trajectories)\n",
    "\n",
    "# generate & update \n",
    "new_batch_data, new_trajectories = dat.generate(batch_data, trajectories)\n",
    "\n",
    "# act: produce action tokens (if there already exists action-tokens un-grounded with reward, skip it)\n",
    "pairs = dat.act(batch_data, trajectories) # list of (sample_idx, action_idx)\n"
   ]
  },
  {
   "cell_type": "code",
   "execution_count": 4,
   "metadata": {},
   "outputs": [
    {
     "name": "stdout",
     "output_type": "stream",
     "text": [
      "\n",
      "=======================================================\n",
      "Hierarchical Trajectory K=2 L=3 (aligned by timestamp):\n",
      "-------------------------------------------------------\n",
      "Level 2:              [0]     \n",
      "Level 1:      [0]     [0]     \n",
      "L0-State: [s] [s] [s] [s]     \n",
      "L0-Action:    [a] [a] [a] [a] \n",
      "=======================================================\n",
      "Total tokens: 11, Max timestamp: 4\n",
      "\n"
     ]
    }
   ],
   "source": [
    "# Validate on 'order of generation'\n",
    "from utils import test_dat_gen_order\n",
    "\n",
    "# Sanity check-up function (order of generation)\n",
    "test_dat_gen_order(dat, env, L=3, K=2, n_gen=10)"
   ]
  },
  {
   "cell_type": "code",
   "execution_count": null,
   "metadata": {},
   "outputs": [
    {
     "data": {
      "image/png": "[encoded data removed]",
      "text/plain": [
       "<Figure size 640x480 with 1 Axes>"
      ]
     },
     "metadata": {},
     "output_type": "display_data"
    },
    {
     "ename": "",
     "evalue": "",
     "output_type": "error",
     "traceback": [
      "\u001b[1;31mThe Kernel crashed while executing code in the current cell or a previous cell. \n",
      "\u001b[1;31mPlease review the code in the cell(s) to identify a possible cause of the failure. \n",
      "\u001b[1;31mClick <a href='https://aka.ms/vscodeJupyterKernelCrash'>here</a> for more info. \n",
      "\u001b[1;31mView Jupyter <a href='command:jupyter.viewOutput'>log</a> for further details."
     ]
    }
   ],
   "source": [
    "# Does DAT dream of playing snake game?\n",
    "\n",
    "# from agent import HiearchicalAgent\n",
    "from snake import SnakeGameEngine\n",
    "from utils import draw_gif\n",
    "from agent import collect_dat_game_play_frames\n",
    "from agent import HiearchicalAgent\n",
    "\n",
    "# Environment\n",
    "env = SnakeGameEngine(width=10, height=10)\n",
    "\n",
    "# DAT Agent (Snake specific agent)\n",
    "# agent = HiearchicalAgent(dat, env.reset(), \"cpu\")\n",
    "\n",
    "# DAT plays the snake game\n",
    "# --------------------------------------------------------------------------------------------------------------------------\n",
    "epsilon = 0.9\n",
    "frames = collect_dat_game_play_frames(dat, env, epsilon=epsilon)\n",
    "draw_gif(frames, txt=f\"DAT (randomized) play Snake (epsilon={epsilon})\", path=\"./visual/dat_snake.gif\")"
   ]
  },
  {
   "cell_type": "markdown",
   "metadata": {},
   "source": [
    "$\\textbf{Concern 1.}$ Random action selection is implemented outside DAT, this implies (potentially) skipping of abstract tokens -- is it valid? \n",
    "- I think it's probably better to modify the 'update' method in agent class to always 'replace' action (instead of assuming it's updated already). \n",
    "- We should always call the 'dat.act' function, so that it'd generate all necessary abstract tokens upto the next action token (with correctly updated \n",
    "  state but wrongly updated trajectory), and we'd replace the selected action with a random selected one with probability epsilon and then replace the \n",
    "  action tensor in the trajectory. "
   ]
  },
  {
   "cell_type": "markdown",
   "metadata": {},
   "source": [
    "(TBD)\n",
    "- (Done) Random action selection perturbation \n",
    "- DRA algorithm"
   ]
  },
  {
   "cell_type": "code",
   "execution_count": null,
   "metadata": {},
   "outputs": [],
   "source": [
    "# DRA, Hyperball trick, SoRL\n",
    "\n",
    "def discovery_refinement_advantage()\n"
   ]
  },
  {
   "cell_type": "code",
   "execution_count": 4,
   "metadata": {},
   "outputs": [],
   "source": [
    "# Comparative studies required between GAT and other hiearchical models, such as 'adaptive-chunk', 'byte-latent', 'hiearchical-reasoning', 'JEPA' to name a few. "
   ]
  },
  {
   "cell_type": "code",
   "execution_count": null,
   "metadata": {},
   "outputs": [],
   "source": []
  }
 ],
 "metadata": {
  "kernelspec": {
   "display_name": "base",
   "language": "python",
   "name": "python3"
  },
  "language_info": {
   "codemirror_mode": {
    "name": "ipython",
    "version": 3
   },
   "file_extension": ".py",
   "mimetype": "text/x-python",
   "name": "python",
   "nbconvert_exporter": "python",
   "pygments_lexer": "ipython3",
   "version": "3.12.7"
  }
 },
 "nbformat": 4,
 "nbformat_minor": 2
}
