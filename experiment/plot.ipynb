{
 "cells": [
  {
   "cell_type": "code",
   "execution_count": 28,
   "id": "5a93d6e3",
   "metadata": {},
   "outputs": [],
   "source": [
    "from plot import * \n",
    "\n",
    "sorl_losses, ssl_only_losses = parse_log_file(\"log.txt\")\n",
    "\n",
    "crossover_iter = find_crossover_point(sorl_losses, ssl_only_losses, window_size=100)"
   ]
  },
  {
   "cell_type": "code",
   "execution_count": 35,
   "id": "3c9739ae",
   "metadata": {},
   "outputs": [
    {
     "name": "stdout",
     "output_type": "stream",
     "text": [
      "Crossover point found at iteration 72\n",
      "Ratio before crossover: 0.7473483186662883\n",
      "Ratio after crossover: 3.0692275221612486\n"
     ]
    }
   ],
   "source": [
    "# Compute efficiency ratio before & after crossover point \n",
    "\n",
    "raw_sorl_gradients = - np.diff(sorl_losses)\n",
    "raw_ssl_gradients = - np.diff(ssl_only_losses)\n",
    "\n",
    "window_size = 20 \n",
    "\n",
    "for i in range(len(raw_sorl_gradients)):\n",
    "    if i < window_size // 2 or i + window_size // 2 >= len(raw_sorl_gradients):\n",
    "        continue \n",
    "    sorl_gradient = raw_sorl_gradients[i - window_size // 2: i + window_size // 2].mean()\n",
    "    ssl_gradient = raw_ssl_gradients[i - window_size // 2: i + window_size // 2].mean()\n",
    "    if sorl_gradient > ssl_gradient:\n",
    "        print(f\"Crossover point found at iteration {i}\")\n",
    "        break\n",
    "\n",
    "ratio_pre_crossover = raw_sorl_gradients[:i].sum() / raw_ssl_gradients[:i].sum()\n",
    "ratio_post_crossover = raw_sorl_gradients[i:].sum() / raw_ssl_gradients[i:].sum()\n",
    "\n",
    "print(f\"Ratio before crossover: {ratio_pre_crossover}\")\n",
    "print(f\"Ratio after crossover: {ratio_post_crossover}\")"
   ]
  },
  {
   "cell_type": "code",
   "execution_count": null,
   "id": "50cca5b9",
   "metadata": {},
   "outputs": [],
   "source": []
  },
  {
   "cell_type": "code",
   "execution_count": null,
   "id": "4f58c2dc",
   "metadata": {},
   "outputs": [],
   "source": []
  },
  {
   "cell_type": "code",
   "execution_count": 26,
   "id": "411d1dfc",
   "metadata": {},
   "outputs": [
    {
     "name": "stdout",
     "output_type": "stream",
     "text": [
      "Crossover point found at iteration 72\n",
      "Calculated Crossover Point (smoothed with window=10): Update #72\n"
     ]
    }
   ],
   "source": [
    "if sorl_losses and ssl_only_losses:\n",
    "    # Define the window size for the running average\n",
    "    smoothing_window = 10\n",
    "    \n",
    "    # 1. Find the precise crossover point using the smoothed gradients\n",
    "    crossover = find_crossover_point(sorl_losses, ssl_only_losses, window_size=smoothing_window)\n",
    "    \n",
    "    if crossover:\n",
    "        print(f\"Calculated Crossover Point (smoothed with window={smoothing_window}): Update #{crossover}\")\n",
    "    else:\n",
    "        print(\"No crossover point found where SoRL efficiency exceeds SSL efficiency.\")\n",
    "\n",
    "    # 2. Generate the visualization\n",
    "    # plot_learning_efficiency(sorl_losses, ssl_only_losses, crossover)"
   ]
  },
  {
   "cell_type": "code",
   "execution_count": 27,
   "id": "3bee630b",
   "metadata": {},
   "outputs": [
    {
     "data": {
      "text/plain": [
       "72"
      ]
     },
     "execution_count": 27,
     "metadata": {},
     "output_type": "execute_result"
    }
   ],
   "source": [
    "crossover"
   ]
  },
  {
   "cell_type": "code",
   "execution_count": null,
   "id": "91129121",
   "metadata": {},
   "outputs": [],
   "source": []
  }
 ],
 "metadata": {
  "kernelspec": {
   "display_name": "base",
   "language": "python",
   "name": "python3"
  },
  "language_info": {
   "codemirror_mode": {
    "name": "ipython",
    "version": 3
   },
   "file_extension": ".py",
   "mimetype": "text/x-python",
   "name": "python",
   "nbconvert_exporter": "python",
   "pygments_lexer": "ipython3",
   "version": "3.12.7"
  }
 },
 "nbformat": 4,
 "nbformat_minor": 5
}
